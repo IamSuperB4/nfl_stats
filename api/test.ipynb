{
 "cells": [
  {
   "cell_type": "code",
   "execution_count": 9,
   "metadata": {},
   "outputs": [],
   "source": []
  },
  {
   "cell_type": "code",
   "execution_count": 10,
   "metadata": {},
   "outputs": [
    {
     "data": {
      "text/html": [
       "<div>\n",
       "<style scoped>\n",
       "    .dataframe tbody tr th:only-of-type {\n",
       "        vertical-align: middle;\n",
       "    }\n",
       "\n",
       "    .dataframe tbody tr th {\n",
       "        vertical-align: top;\n",
       "    }\n",
       "\n",
       "    .dataframe thead th {\n",
       "        text-align: right;\n",
       "    }\n",
       "</style>\n",
       "<table border=\"1\" class=\"dataframe\">\n",
       "  <thead>\n",
       "    <tr style=\"text-align: right;\">\n",
       "      <th></th>\n",
       "      <th>Id</th>\n",
       "      <th>Location</th>\n",
       "      <th>Name</th>\n",
       "      <th>FullName</th>\n",
       "      <th>Division</th>\n",
       "      <th>Conference</th>\n",
       "    </tr>\n",
       "  </thead>\n",
       "  <tbody>\n",
       "    <tr>\n",
       "      <th>0</th>\n",
       "      <td>1</td>\n",
       "      <td>Buffalo</td>\n",
       "      <td>Bills</td>\n",
       "      <td>Buffalo Bills</td>\n",
       "      <td>AFC East</td>\n",
       "      <td>AFC</td>\n",
       "    </tr>\n",
       "    <tr>\n",
       "      <th>1</th>\n",
       "      <td>2</td>\n",
       "      <td>Miami</td>\n",
       "      <td>Dolphins</td>\n",
       "      <td>Miami Dolphins</td>\n",
       "      <td>AFC East</td>\n",
       "      <td>AFC</td>\n",
       "    </tr>\n",
       "    <tr>\n",
       "      <th>2</th>\n",
       "      <td>3</td>\n",
       "      <td>New England</td>\n",
       "      <td>Patriots</td>\n",
       "      <td>New England Patriots</td>\n",
       "      <td>AFC East</td>\n",
       "      <td>AFC</td>\n",
       "    </tr>\n",
       "    <tr>\n",
       "      <th>3</th>\n",
       "      <td>4</td>\n",
       "      <td>New York</td>\n",
       "      <td>Jets</td>\n",
       "      <td>New York Jets</td>\n",
       "      <td>AFC East</td>\n",
       "      <td>AFC</td>\n",
       "    </tr>\n",
       "    <tr>\n",
       "      <th>4</th>\n",
       "      <td>5</td>\n",
       "      <td>Kansas City</td>\n",
       "      <td>Chiefs</td>\n",
       "      <td>Kansas City Chiefs</td>\n",
       "      <td>AFC West</td>\n",
       "      <td>AFC</td>\n",
       "    </tr>\n",
       "  </tbody>\n",
       "</table>\n",
       "</div>"
      ],
      "text/plain": [
       "   Id     Location      Name              FullName  Division Conference\n",
       "0   1      Buffalo     Bills         Buffalo Bills  AFC East        AFC\n",
       "1   2        Miami  Dolphins        Miami Dolphins  AFC East        AFC\n",
       "2   3  New England  Patriots  New England Patriots  AFC East        AFC\n",
       "3   4     New York      Jets         New York Jets  AFC East        AFC\n",
       "4   5  Kansas City    Chiefs    Kansas City Chiefs  AFC West        AFC"
      ]
     },
     "execution_count": 10,
     "metadata": {},
     "output_type": "execute_result"
    }
   ],
   "source": []
  }
 ],
 "metadata": {
  "kernelspec": {
   "display_name": "py3.11",
   "language": "python",
   "name": "python3"
  },
  "language_info": {
   "codemirror_mode": {
    "name": "ipython",
    "version": 3
   },
   "file_extension": ".py",
   "mimetype": "text/x-python",
   "name": "python",
   "nbconvert_exporter": "python",
   "pygments_lexer": "ipython3",
   "version": "0.0.0"
  }
 },
 "nbformat": 4,
 "nbformat_minor": 2
}
